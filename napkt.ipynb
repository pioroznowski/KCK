{
 "cells": [
  {
   "cell_type": "code",
   "execution_count": null,
   "metadata": {},
   "outputs": [],
   "source": []
  },
  {
   "cell_type": "code",
   "execution_count": 2,
   "metadata": {},
   "outputs": [
    {
     "ename": "ModuleNotFoundError",
     "evalue": "No module named 'aseegg'",
     "output_type": "error",
     "traceback": [
      "\u001b[1;31m---------------------------------------------------------------------------\u001b[0m",
      "\u001b[1;31mModuleNotFoundError\u001b[0m                       Traceback (most recent call last)",
      "\u001b[1;32m<ipython-input-2-791622a987fe>\u001b[0m in \u001b[0;36m<module>\u001b[1;34m\u001b[0m\n\u001b[0;32m      1\u001b[0m \u001b[1;32mimport\u001b[0m \u001b[0mpandas\u001b[0m \u001b[1;32mas\u001b[0m \u001b[0mpd\u001b[0m\u001b[1;33m\u001b[0m\u001b[0m\n\u001b[1;32m----> 2\u001b[1;33m \u001b[1;32mimport\u001b[0m \u001b[0maseegg\u001b[0m \u001b[1;32mas\u001b[0m \u001b[0mag\u001b[0m\u001b[1;33m\u001b[0m\u001b[0m\n\u001b[0m\u001b[0;32m      3\u001b[0m \u001b[1;32mimport\u001b[0m \u001b[0mmatplotlib\u001b[0m\u001b[1;33m.\u001b[0m\u001b[0mpyplot\u001b[0m \u001b[1;32mas\u001b[0m \u001b[0mplt\u001b[0m\u001b[1;33m\u001b[0m\u001b[0m\n\u001b[0;32m      4\u001b[0m \u001b[1;32mimport\u001b[0m \u001b[0mnumpy\u001b[0m \u001b[1;32mas\u001b[0m \u001b[0mnp\u001b[0m\u001b[1;33m\u001b[0m\u001b[0m\n\u001b[0;32m      5\u001b[0m \u001b[1;33m\u001b[0m\u001b[0m\n",
      "\u001b[1;31mModuleNotFoundError\u001b[0m: No module named 'aseegg'"
     ]
    }
   ],
   "source": [
    "import pandas as pd\n",
    "import aseegg as ag\n",
    "import matplotlib.pyplot as plt\n",
    "import numpy as np\n",
    "\n",
    "\n",
    "dane = pd.read_csv(\"C:/Users/beton/desktop/sub-01-trial-003.csv\")\n",
    "\n",
    "df = pd.DataFrame(dane)\n",
    "\n",
    "#wydobycie kolumn bazy danych potrzebnych do opracowania raportu\n",
    "amp = df[df.columns[1]]\n",
    "\n",
    "liczba = df[df.columns[5]]\n",
    "\n",
    "#definiowanie czasu(liczba wierszy[7579] dzielona przez częstotliwość[200])\n",
    "t = np.linspace(0, 37.895, 37.895*200)\n",
    "\n",
    "#filtracja sygnału\n",
    "bez_pradu = ag.pasmowozaporowy(amp, 200, 49, 51)\n",
    "przefiltrowany = ag.gornoprzepustowy(bez_pradu, 200, 3 )\n",
    "\n",
    "\n",
    "#szukanie liczby na którą mrugano\n",
    "for index, wartosc in enumerate(przefiltrowany):\n",
    "    if wartosc > 0.15:\n",
    "        print(index,wartosc)\n",
    "        print(liczba[index])\n",
    "\n",
    "#wykresy\n",
    "plt.subplot(2,1,1)\n",
    "plt.title('Wykres sygnału przed filtracją')\n",
    "plt.xlabel('Czas [s]')\n",
    "plt.ylabel('Amplituda [-]')\n",
    "plt.plot(t,amp)\n",
    "plt.subplot(2,1,2)\n",
    "plt.title('Wykres sygnału po filtracji')\n",
    "plt.xlabel('Czas [s]')\n",
    "plt.ylabel('Amplituda [-]')\n",
    "plt.plot(t,przefiltrowany)\n",
    "plt.show()\n"
   ]
  },
  {
   "cell_type": "code",
   "execution_count": null,
   "metadata": {},
   "outputs": [],
   "source": []
  },
  {
   "cell_type": "code",
   "execution_count": null,
   "metadata": {},
   "outputs": [],
   "source": []
  }
 ],
 "metadata": {
  "kernelspec": {
   "display_name": "Python 3",
   "language": "python",
   "name": "python3"
  }
 },
 "nbformat": 4,
 "nbformat_minor": 2
}
